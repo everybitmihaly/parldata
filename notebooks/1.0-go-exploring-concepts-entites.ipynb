{
 "cells": [
  {
   "cell_type": "markdown",
   "metadata": {},
   "source": [
    "# Data"
   ]
  },
  {
   "cell_type": "code",
   "execution_count": 1,
   "metadata": {
    "ExecuteTime": {
     "end_time": "2017-08-04T21:16:22.037198Z",
     "start_time": "2017-08-04T21:16:21.516758Z"
    },
    "collapsed": true
   },
   "outputs": [],
   "source": [
    "import pandas as pd"
   ]
  },
  {
   "cell_type": "code",
   "execution_count": 2,
   "metadata": {
    "ExecuteTime": {
     "end_time": "2017-08-04T21:16:24.844585Z",
     "start_time": "2017-08-04T21:16:22.039160Z"
    },
    "collapsed": true
   },
   "outputs": [],
   "source": [
    "pents = pd.read_pickle(\"../data/interim/polyglot_entities_98_17.pkl\")"
   ]
  },
  {
   "cell_type": "code",
   "execution_count": 3,
   "metadata": {
    "ExecuteTime": {
     "end_time": "2017-08-04T21:16:31.981580Z",
     "start_time": "2017-08-04T21:16:24.846088Z"
    },
    "collapsed": true
   },
   "outputs": [],
   "source": [
    "_concepts = pd.read_pickle(\"../data/interim/concepts_98_17.pkl\")\n",
    "\n",
    "concepts_df = pd.DataFrame([\n",
    "    {\n",
    "        \"Hash\": hashid, \n",
    "        \"Concept\": concept[\"URI\"].split(\"/\")[-1], \n",
    "        \"ConceptCategory\": list(filter(lambda x: \"DBpedia\" in x, concept[\"types\"].split(\",\")))[-1].split(\":\")[-1] if len(concept[\"types\"]) else None,\n",
    "    } \n",
    "    for hashid, concepts in _concepts.Concepts.iteritems() \n",
    "    for concept in concepts\n",
    "]).set_index(\"Hash\")"
   ]
  },
  {
   "cell_type": "code",
   "execution_count": 4,
   "metadata": {
    "ExecuteTime": {
     "end_time": "2017-08-04T21:16:42.720865Z",
     "start_time": "2017-08-04T21:16:31.983999Z"
    }
   },
   "outputs": [],
   "source": [
    "raw_df = pd.read_csv(\n",
    "    \"../data/interim/merged_98_17.tsv\", \n",
    "    sep=\"\\t\"\n",
    ").set_index(\"Hash\").drop([\"URL\", \"Text\"], axis=1)\n",
    "raw_df.Date = pd.to_datetime(raw_df[\"Date\"])"
   ]
  },
  {
   "cell_type": "code",
   "execution_count": 5,
   "metadata": {
    "ExecuteTime": {
     "end_time": "2017-08-04T21:16:44.411851Z",
     "start_time": "2017-08-04T21:16:42.722882Z"
    },
    "collapsed": true
   },
   "outputs": [],
   "source": [
    "data = raw_df.join(concepts_df)"
   ]
  },
  {
   "cell_type": "markdown",
   "metadata": {},
   "source": [
    "# Queries"
   ]
  },
  {
   "cell_type": "code",
   "execution_count": 6,
   "metadata": {
    "ExecuteTime": {
     "end_time": "2017-08-04T21:16:44.621193Z",
     "start_time": "2017-08-04T21:16:44.413643Z"
    }
   },
   "outputs": [
    {
     "name": "stdout",
     "output_type": "stream",
     "text": [
      "Populating the interactive namespace from numpy and matplotlib\n"
     ]
    }
   ],
   "source": [
    "%pylab inline"
   ]
  },
  {
   "cell_type": "code",
   "execution_count": 7,
   "metadata": {
    "ExecuteTime": {
     "end_time": "2017-08-04T21:16:44.629113Z",
     "start_time": "2017-08-04T21:16:44.623147Z"
    }
   },
   "outputs": [
    {
     "data": {
      "text/plain": [
       "Index(['Date', 'SpeechType', 'SpeakerType', 'Name', 'Party', 'SpeakerId',\n",
       "       'Concept', 'ConceptCategory'],\n",
       "      dtype='object')"
      ]
     },
     "execution_count": 7,
     "metadata": {},
     "output_type": "execute_result"
    }
   ],
   "source": [
    "data.columns"
   ]
  },
  {
   "cell_type": "code",
   "execution_count": 8,
   "metadata": {
    "ExecuteTime": {
     "end_time": "2017-08-04T21:16:47.028282Z",
     "start_time": "2017-08-04T21:16:44.631199Z"
    }
   },
   "outputs": [
    {
     "data": {
      "text/plain": [
       "napirend előtti felszólalás                        1928\n",
       "napirend előttihez hozzászólás                     1641\n",
       "kérdést megválaszolja                               793\n",
       "azonnali kérdésre adott miniszteri viszonválasz     757\n",
       "felszólalás                                         370\n",
       "Expozé                                              334\n",
       "vezérszónoki felszólalás                            130\n",
       "Előadói válasz                                       78\n",
       "Eskü                                                 64\n",
       "egyéb felszólalás                                    26\n",
       "kétperces felszólalás                                21\n",
       "előterjesztő nyitóbeszéde                            17\n",
       "interpellációt szóban megválaszolja                   7\n",
       "nem érdemi felszólalás                                3\n",
       "Name: SpeechType, dtype: int64"
      ]
     },
     "execution_count": 8,
     "metadata": {},
     "output_type": "execute_result"
    }
   ],
   "source": [
    "data[data.Name.str.contains(\"Orbán Viktor\")].SpeechType.value_counts()"
   ]
  },
  {
   "cell_type": "code",
   "execution_count": 9,
   "metadata": {
    "ExecuteTime": {
     "end_time": "2017-08-04T21:16:48.858915Z",
     "start_time": "2017-08-04T21:16:47.030573Z"
    }
   },
   "outputs": [
    {
     "data": {
      "text/plain": [
       "Country              2032\n",
       "PoliticalParty       1449\n",
       "Politician            352\n",
       "Settlement            243\n",
       "Organisation           60\n",
       "Currency               55\n",
       "EthnicGroup            43\n",
       "River                  25\n",
       "Monarch                14\n",
       "Newspaper              10\n",
       "Road                    8\n",
       "Company                 6\n",
       "Island                  4\n",
       "Person                  4\n",
       "Lake                    4\n",
       "HistoricPlace           4\n",
       "Airline                 3\n",
       "Building                3\n",
       "Writer                  2\n",
       "TelevisionShow          2\n",
       "SoccerClub              2\n",
       "Cleric                  1\n",
       "Airport                 1\n",
       "Ship                    1\n",
       "MilitaryConflict        1\n",
       "WorldHeritageSite       1\n",
       "Language                1\n",
       "Name: ConceptCategory, dtype: int64"
      ]
     },
     "execution_count": 9,
     "metadata": {},
     "output_type": "execute_result"
    }
   ],
   "source": [
    "data[data.Name.str.contains(\"Orbán Viktor\")].ConceptCategory.value_counts()"
   ]
  },
  {
   "cell_type": "code",
   "execution_count": 18,
   "metadata": {
    "ExecuteTime": {
     "end_time": "2017-08-04T21:19:28.983758Z",
     "start_time": "2017-08-04T21:19:20.027449Z"
    }
   },
   "outputs": [],
   "source": [
    "ov = data[data.Name.str.contains(\"Orbán Viktor\") & \n",
    "            ~data.Concept.fillna(\"\").str.contains(\"Orbán\") &\n",
    "            ~data.Concept.fillna(\"\").str.contains(\"Fidesz\") &\n",
    "            ~data.Concept.fillna(\"\").str.contains(\"Magyarország\")\n",
    "         ]\n",
    "#           (data.SpeechType == \"napirend előtti felszólalás\") & \n"
   ]
  },
  {
   "cell_type": "code",
   "execution_count": 19,
   "metadata": {
    "ExecuteTime": {
     "end_time": "2017-08-04T21:19:29.029316Z",
     "start_time": "2017-08-04T21:19:28.985686Z"
    }
   },
   "outputs": [],
   "source": [
    "import datetime\n",
    "\n",
    "topk = 10\n",
    "\n",
    "ov98 = ov[(ov.Date < datetime.date(year=2002,month=1,day=1)) &\n",
    "          (ov.Date > datetime.date(year=1998,month=1,day=1))].Concept.value_counts()[:topk]\n",
    "\n",
    "ov02 = ov[(ov.Date < datetime.date(year=2006,month=1,day=1)) &\n",
    "          (ov.Date > datetime.date(year=2002,month=1,day=1))].Concept.value_counts()[:topk]\n",
    "\n",
    "ov06 = ov[(ov.Date < datetime.date(year=2010,month=1,day=1)) &\n",
    "          (ov.Date > datetime.date(year=2006,month=1,day=1))].Concept.value_counts()[:topk]\n",
    "\n",
    "ov10 = ov[(ov.Date < datetime.date(year=2014,month=1,day=1)) &\n",
    "          (ov.Date > datetime.date(year=2010,month=1,day=1))].Concept.value_counts()[:topk]\n",
    "\n",
    "ov14 = ov[\n",
    "#           (ov.Date < datetime.date(year=2014,month=1,day=1)) &\n",
    "          (ov.Date > datetime.date(year=2014,month=1,day=1))].Concept.value_counts()[:topk]"
   ]
  },
  {
   "cell_type": "code",
   "execution_count": 20,
   "metadata": {
    "ExecuteTime": {
     "end_time": "2017-08-04T21:19:29.040087Z",
     "start_time": "2017-08-04T21:19:29.032029Z"
    },
    "collapsed": true
   },
   "outputs": [],
   "source": [
    "def comparision_plot(dfs, columns):\n",
    "    fig, ax = plt.subplots()\n",
    "    fig.set_size_inches(18, 6)\n",
    "    data = pd.concat(dfs, axis=1)\n",
    "    data.columns = columns\n",
    "    data.plot(kind=\"bar\", ax=ax)\n",
    "    "
   ]
  },
  {
   "cell_type": "code",
   "execution_count": 21,
   "metadata": {
    "ExecuteTime": {
     "end_time": "2017-08-04T21:19:29.981305Z",
     "start_time": "2017-08-04T21:19:29.043307Z"
    }
   },
   "outputs": [
    {
     "data": {
      "image/png": "[encoded data removed]",
      "text/plain": [
       "<matplotlib.figure.Figure at 0x1210b6cf8>"
      ]
     },
     "metadata": {},
     "output_type": "display_data"
    }
   ],
   "source": [
    "comparision_plot([ov98, ov02, ov06, ov10, ov14], [1998, 2002, 2006, 2010, 2014])"
   ]
  },
  {
   "cell_type": "code",
   "execution_count": null,
   "metadata": {
    "collapsed": true
   },
   "outputs": [],
   "source": []
  }
 ],
 "metadata": {
  "kernelspec": {
   "display_name": "Python [conda env:parldata]",
   "language": "python",
   "name": "conda-env-parldata-py"
  },
  "language_info": {
   "codemirror_mode": {
    "name": "ipython",
    "version": 3
   },
   "file_extension": ".py",
   "mimetype": "text/x-python",
   "name": "python",
   "nbconvert_exporter": "python",
   "pygments_lexer": "ipython3",
   "version": "3.6.2"
  },
  "latex_envs": {
   "LaTeX_envs_menu_present": true,
   "bibliofile": "biblio.bib",
   "cite_by": "apalike",
   "current_citInitial": 1,
   "eqLabelWithNumbers": true,
   "eqNumInitial": 1,
   "hotkeys": {
    "equation": "Ctrl-E",
    "itemize": "Ctrl-I"
   },
   "labels_anchors": false,
   "latex_user_defs": false,
   "report_style_numbering": false,
   "user_envs_cfg": false
  },
  "notify_time": "5"
 },
 "nbformat": 4,
 "nbformat_minor": 2
}
