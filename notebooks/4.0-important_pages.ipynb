{
 "cells": [
  {
   "cell_type": "code",
   "execution_count": 1,
   "metadata": {
    "ExecuteTime": {
     "end_time": "2017-08-21T20:06:55.894675Z",
     "start_time": "2017-08-21T20:06:55.892096Z"
    },
    "collapsed": true
   },
   "outputs": [],
   "source": [
    "from rdflib import Graph"
   ]
  },
  {
   "cell_type": "code",
   "execution_count": 6,
   "metadata": {
    "ExecuteTime": {
     "end_time": "2017-08-21T20:20:17.203155Z",
     "start_time": "2017-08-21T20:17:48.405517Z"
    }
   },
   "outputs": [
    {
     "data": {
      "text/plain": [
       "<Graph identifier=Ne8d46819ee494c63a9278b55e9533d8c (<class 'rdflib.graph.Graph'>)>"
      ]
     },
     "execution_count": 6,
     "metadata": {},
     "output_type": "execute_result"
    }
   ],
   "source": [
    "graph = Graph()\n",
    "graph.parse(\"../data/external/page_ids_hu.ttl\", format=\"ttl\")"
   ]
  },
  {
   "cell_type": "code",
   "execution_count": 51,
   "metadata": {
    "ExecuteTime": {
     "end_time": "2017-08-21T20:46:30.775620Z",
     "start_time": "2017-08-21T20:46:25.676319Z"
    },
    "collapsed": true
   },
   "outputs": [],
   "source": [
    "page_ids = pd.DataFrame([{\n",
    "    \"uri\": str(uri),\n",
    "    \"uid\": int(uid)\n",
    "} for uri, _, uid in graph])#|.set_index(\"uri\")"
   ]
  },
  {
   "cell_type": "code",
   "execution_count": 52,
   "metadata": {
    "ExecuteTime": {
     "end_time": "2017-08-21T20:46:30.784549Z",
     "start_time": "2017-08-21T20:46:30.777546Z"
    }
   },
   "outputs": [
    {
     "data": {
      "text/html": [
       "<div>\n",
       "<style>\n",
       "    .dataframe thead tr:only-child th {\n",
       "        text-align: right;\n",
       "    }\n",
       "\n",
       "    .dataframe thead th {\n",
       "        text-align: left;\n",
       "    }\n",
       "\n",
       "    .dataframe tbody tr th {\n",
       "        vertical-align: top;\n",
       "    }\n",
       "</style>\n",
       "<table border=\"1\" class=\"dataframe\">\n",
       "  <thead>\n",
       "    <tr style=\"text-align: right;\">\n",
       "      <th></th>\n",
       "      <th>uid</th>\n",
       "      <th>uri</th>\n",
       "    </tr>\n",
       "  </thead>\n",
       "  <tbody>\n",
       "    <tr>\n",
       "      <th>0</th>\n",
       "      <td>1187577</td>\n",
       "      <td>http://hu.dbpedia.org/resource/Konplott</td>\n",
       "    </tr>\n",
       "    <tr>\n",
       "      <th>1</th>\n",
       "      <td>617297</td>\n",
       "      <td>http://hu.dbpedia.org/resource/Sablon:Népesség...</td>\n",
       "    </tr>\n",
       "    <tr>\n",
       "      <th>2</th>\n",
       "      <td>271910</td>\n",
       "      <td>http://hu.dbpedia.org/resource/Breinigerberg</td>\n",
       "    </tr>\n",
       "    <tr>\n",
       "      <th>3</th>\n",
       "      <td>907810</td>\n",
       "      <td>http://hu.dbpedia.org/resource/Kategória:1002</td>\n",
       "    </tr>\n",
       "    <tr>\n",
       "      <th>4</th>\n",
       "      <td>925842</td>\n",
       "      <td>http://hu.dbpedia.org/resource/Kategória:I._e....</td>\n",
       "    </tr>\n",
       "  </tbody>\n",
       "</table>\n",
       "</div>"
      ],
      "text/plain": [
       "       uid                                                uri\n",
       "0  1187577            http://hu.dbpedia.org/resource/Konplott\n",
       "1   617297  http://hu.dbpedia.org/resource/Sablon:Népesség...\n",
       "2   271910       http://hu.dbpedia.org/resource/Breinigerberg\n",
       "3   907810      http://hu.dbpedia.org/resource/Kategória:1002\n",
       "4   925842  http://hu.dbpedia.org/resource/Kategória:I._e...."
      ]
     },
     "execution_count": 52,
     "metadata": {},
     "output_type": "execute_result"
    }
   ],
   "source": [
    "page_ids.head()"
   ]
  },
  {
   "cell_type": "code",
   "execution_count": 53,
   "metadata": {
    "ExecuteTime": {
     "end_time": "2017-08-21T20:46:46.655327Z",
     "start_time": "2017-08-21T20:46:35.152858Z"
    },
    "collapsed": true
   },
   "outputs": [],
   "source": [
    "import pandas as pd\n",
    "from urllib.parse import unquote_plus\n",
    "\n",
    "page_freqs = pd.read_csv(\"../data/external/page_inlinks.csv\", sep=\" \", header=None, engine=\"python\")\n",
    "page_freqs.columns=[\"freq\", \"uri\"]\n",
    "page_freqs.uri = page_freqs.uri.apply(unquote_plus)\n",
    "# page_freqs.set_index(\"uri\", inplace=True)"
   ]
  },
  {
   "cell_type": "code",
   "execution_count": 54,
   "metadata": {
    "ExecuteTime": {
     "end_time": "2017-08-21T20:46:46.662198Z",
     "start_time": "2017-08-21T20:46:46.657635Z"
    }
   },
   "outputs": [
    {
     "data": {
      "text/plain": [
       "('http://hu.dbpedia.org/resource/Franciaország',\n",
       " 'http://hu.dbpedia.org/resource/Konplott')"
      ]
     },
     "execution_count": 54,
     "metadata": {},
     "output_type": "execute_result"
    }
   ],
   "source": [
    "page_freqs.uri.values[0], page_ids.uri.values[0]"
   ]
  },
  {
   "cell_type": "code",
   "execution_count": 55,
   "metadata": {
    "ExecuteTime": {
     "end_time": "2017-08-21T20:46:48.836296Z",
     "start_time": "2017-08-21T20:46:46.664812Z"
    },
    "collapsed": true
   },
   "outputs": [],
   "source": [
    "page_data = pd.merge(page_ids, page_freqs, how=\"inner\", on=[\"uri\"])"
   ]
  },
  {
   "cell_type": "code",
   "execution_count": 56,
   "metadata": {
    "ExecuteTime": {
     "end_time": "2017-08-21T20:46:48.853159Z",
     "start_time": "2017-08-21T20:46:48.837993Z"
    }
   },
   "outputs": [
    {
     "data": {
      "text/html": [
       "<div>\n",
       "<style>\n",
       "    .dataframe thead tr:only-child th {\n",
       "        text-align: right;\n",
       "    }\n",
       "\n",
       "    .dataframe thead th {\n",
       "        text-align: left;\n",
       "    }\n",
       "\n",
       "    .dataframe tbody tr th {\n",
       "        vertical-align: top;\n",
       "    }\n",
       "</style>\n",
       "<table border=\"1\" class=\"dataframe\">\n",
       "  <thead>\n",
       "    <tr style=\"text-align: right;\">\n",
       "      <th></th>\n",
       "      <th>uid</th>\n",
       "      <th>uri</th>\n",
       "      <th>freq</th>\n",
       "    </tr>\n",
       "  </thead>\n",
       "  <tbody>\n",
       "    <tr>\n",
       "      <th>470452</th>\n",
       "      <td>836647</td>\n",
       "      <td>http://hu.dbpedia.org/resource/Efteling</td>\n",
       "      <td>4</td>\n",
       "    </tr>\n",
       "    <tr>\n",
       "      <th>470453</th>\n",
       "      <td>207142</td>\n",
       "      <td>http://hu.dbpedia.org/resource/47,XYY_szindróma</td>\n",
       "      <td>2</td>\n",
       "    </tr>\n",
       "    <tr>\n",
       "      <th>470454</th>\n",
       "      <td>156708</td>\n",
       "      <td>http://hu.dbpedia.org/resource/RAF_(egyértelmű...</td>\n",
       "      <td>1</td>\n",
       "    </tr>\n",
       "    <tr>\n",
       "      <th>470455</th>\n",
       "      <td>1179840</td>\n",
       "      <td>http://hu.dbpedia.org/resource/Toszon</td>\n",
       "      <td>3</td>\n",
       "    </tr>\n",
       "    <tr>\n",
       "      <th>470456</th>\n",
       "      <td>117595</td>\n",
       "      <td>http://hu.dbpedia.org/resource/Kombinált_csűrő...</td>\n",
       "      <td>10</td>\n",
       "    </tr>\n",
       "  </tbody>\n",
       "</table>\n",
       "</div>"
      ],
      "text/plain": [
       "            uid                                                uri  freq\n",
       "470452   836647            http://hu.dbpedia.org/resource/Efteling     4\n",
       "470453   207142    http://hu.dbpedia.org/resource/47,XYY_szindróma     2\n",
       "470454   156708  http://hu.dbpedia.org/resource/RAF_(egyértelmű...     1\n",
       "470455  1179840              http://hu.dbpedia.org/resource/Toszon     3\n",
       "470456   117595  http://hu.dbpedia.org/resource/Kombinált_csűrő...    10"
      ]
     },
     "execution_count": 56,
     "metadata": {},
     "output_type": "execute_result"
    }
   ],
   "source": [
    "page_data.tail()"
   ]
  },
  {
   "cell_type": "code",
   "execution_count": 35,
   "metadata": {
    "ExecuteTime": {
     "end_time": "2017-08-21T20:39:44.850551Z",
     "start_time": "2017-08-21T20:39:44.846399Z"
    }
   },
   "outputs": [
    {
     "data": {
      "text/plain": [
       "(736066, 736066, 2018820)"
      ]
     },
     "execution_count": 35,
     "metadata": {},
     "output_type": "execute_result"
    }
   ],
   "source": [
    "len(page_data), len(page_ids), len(page_freqs)"
   ]
  },
  {
   "cell_type": "code",
   "execution_count": 85,
   "metadata": {
    "ExecuteTime": {
     "end_time": "2017-08-22T07:31:53.468481Z",
     "start_time": "2017-08-22T07:31:50.556138Z"
    },
    "collapsed": true
   },
   "outputs": [],
   "source": [
    "page_filter = (\n",
    "    (page_data.freq>100) & \n",
    "    (~page_data.uri.str.contains(\"Kategória\")) & \n",
    "    (~page_data.uri.str.contains(\"listája\")) & \n",
    "    (~page_data.uri.str.contains(\"lista\")) & \n",
    "    (~page_data.uri.str.contains(\"település\")) & \n",
    "    (~page_data.uri.str.match(\".*/.*\\d+.*$\"))\n",
    ")"
   ]
  },
  {
   "cell_type": "code",
   "execution_count": 86,
   "metadata": {
    "ExecuteTime": {
     "end_time": "2017-08-22T07:31:59.497389Z",
     "start_time": "2017-08-22T07:31:59.436331Z"
    },
    "collapsed": true
   },
   "outputs": [],
   "source": [
    "page_data[page_filter].sort_values([\"freq\"], ascending=False).to_csv(\"../data/interim/important_wikipages.csv\")"
   ]
  },
  {
   "cell_type": "code",
   "execution_count": null,
   "metadata": {
    "collapsed": true
   },
   "outputs": [],
   "source": []
  }
 ],
 "metadata": {
  "kernelspec": {
   "display_name": "Python [conda env:parldata]",
   "language": "python",
   "name": "conda-env-parldata-py"
  },
  "language_info": {
   "codemirror_mode": {
    "name": "ipython",
    "version": 3
   },
   "file_extension": ".py",
   "mimetype": "text/x-python",
   "name": "python",
   "nbconvert_exporter": "python",
   "pygments_lexer": "ipython3",
   "version": "3.6.2"
  },
  "latex_envs": {
   "LaTeX_envs_menu_present": true,
   "bibliofile": "biblio.bib",
   "cite_by": "apalike",
   "current_citInitial": 1,
   "eqLabelWithNumbers": true,
   "eqNumInitial": 1,
   "hotkeys": {
    "equation": "Ctrl-E",
    "itemize": "Ctrl-I"
   },
   "labels_anchors": false,
   "latex_user_defs": false,
   "report_style_numbering": false,
   "user_envs_cfg": false
  }
 },
 "nbformat": 4,
 "nbformat_minor": 2
}
