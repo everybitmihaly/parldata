{
 "cells": [
  {
   "cell_type": "markdown",
   "metadata": {
    "ExecuteTime": {
     "end_time": "2017-08-22T07:18:03.450772Z",
     "start_time": "2017-08-22T07:18:03.448274Z"
    },
    "collapsed": true
   },
   "source": [
    "# Data"
   ]
  },
  {
   "cell_type": "code",
   "execution_count": 3,
   "metadata": {
    "ExecuteTime": {
     "end_time": "2017-08-22T07:18:15.796256Z",
     "start_time": "2017-08-22T07:18:14.324754Z"
    },
    "collapsed": true
   },
   "outputs": [],
   "source": [
    "import zipfile\n",
    "import json\n",
    "import pandas as pd\n",
    "import gensim\n",
    "import tqdm"
   ]
  },
  {
   "cell_type": "code",
   "execution_count": 35,
   "metadata": {
    "ExecuteTime": {
     "end_time": "2017-08-22T07:32:02.218793Z",
     "start_time": "2017-08-22T07:32:02.188109Z"
    }
   },
   "outputs": [
    {
     "name": "stdout",
     "output_type": "stream",
     "text": [
      "8077\n"
     ]
    },
    {
     "data": {
      "text/html": [
       "<div>\n",
       "<style>\n",
       "    .dataframe thead tr:only-child th {\n",
       "        text-align: right;\n",
       "    }\n",
       "\n",
       "    .dataframe thead th {\n",
       "        text-align: left;\n",
       "    }\n",
       "\n",
       "    .dataframe tbody tr th {\n",
       "        vertical-align: top;\n",
       "    }\n",
       "</style>\n",
       "<table border=\"1\" class=\"dataframe\">\n",
       "  <thead>\n",
       "    <tr style=\"text-align: right;\">\n",
       "      <th></th>\n",
       "      <th>uid</th>\n",
       "      <th>uri</th>\n",
       "      <th>freq</th>\n",
       "    </tr>\n",
       "  </thead>\n",
       "  <tbody>\n",
       "    <tr>\n",
       "      <th>396690</th>\n",
       "      <td>2064</td>\n",
       "      <td>http://hu.dbpedia.org/resource/Franciaország</td>\n",
       "      <td>51508</td>\n",
       "    </tr>\n",
       "    <tr>\n",
       "      <th>461307</th>\n",
       "      <td>5711</td>\n",
       "      <td>http://hu.dbpedia.org/resource/Amerikai_Egyesü...</td>\n",
       "      <td>27273</td>\n",
       "    </tr>\n",
       "    <tr>\n",
       "      <th>424711</th>\n",
       "      <td>1145</td>\n",
       "      <td>http://hu.dbpedia.org/resource/Budapest</td>\n",
       "      <td>24992</td>\n",
       "    </tr>\n",
       "    <tr>\n",
       "      <th>46966</th>\n",
       "      <td>2184</td>\n",
       "      <td>http://hu.dbpedia.org/resource/Németország</td>\n",
       "      <td>23224</td>\n",
       "    </tr>\n",
       "    <tr>\n",
       "      <th>455783</th>\n",
       "      <td>115</td>\n",
       "      <td>http://hu.dbpedia.org/resource/Magyarország</td>\n",
       "      <td>22517</td>\n",
       "    </tr>\n",
       "  </tbody>\n",
       "</table>\n",
       "</div>"
      ],
      "text/plain": [
       "         uid                                                uri   freq\n",
       "396690  2064       http://hu.dbpedia.org/resource/Franciaország  51508\n",
       "461307  5711  http://hu.dbpedia.org/resource/Amerikai_Egyesü...  27273\n",
       "424711  1145            http://hu.dbpedia.org/resource/Budapest  24992\n",
       "46966   2184         http://hu.dbpedia.org/resource/Németország  23224\n",
       "455783   115        http://hu.dbpedia.org/resource/Magyarország  22517"
      ]
     },
     "execution_count": 35,
     "metadata": {},
     "output_type": "execute_result"
    }
   ],
   "source": [
    "important_wikipages = pd.read_csv(\"../data/interim/important_wikipages.csv\", index_col=0)\n",
    "print(len(important_wikipages))\n",
    "important_wikipages.head()"
   ]
  },
  {
   "cell_type": "code",
   "execution_count": 36,
   "metadata": {
    "ExecuteTime": {
     "end_time": "2017-08-22T07:32:07.663640Z",
     "start_time": "2017-08-22T07:32:07.659399Z"
    },
    "collapsed": true
   },
   "outputs": [],
   "source": [
    "page_ids = set(important_wikipages.uid.values)"
   ]
  },
  {
   "cell_type": "code",
   "execution_count": 37,
   "metadata": {
    "ExecuteTime": {
     "end_time": "2017-08-22T07:32:08.178132Z",
     "start_time": "2017-08-22T07:32:08.165453Z"
    }
   },
   "outputs": [],
   "source": [
    "def _read_zip(zipped_wiki):\n",
    "    with zipfile.ZipFile(zipped_wiki) as zf:\n",
    "        for i, fname in enumerate(tqdm.tqdm(zf.namelist())):\n",
    "            pid = int(fname.split(\".\")[0])\n",
    "            if pid in page_ids:\n",
    "                with zf.open(fname) as f:\n",
    "                    yield json.loads(f.read())\n",
    "                \n",
    "# next(_read_zip(\"../data/interim/wik_pages.zip\"))"
   ]
  },
  {
   "cell_type": "code",
   "execution_count": 51,
   "metadata": {
    "ExecuteTime": {
     "end_time": "2017-08-22T07:37:26.459180Z",
     "start_time": "2017-08-22T07:37:14.197667Z"
    }
   },
   "outputs": [
    {
     "name": "stderr",
     "output_type": "stream",
     "text": [
      "100%|██████████| 587377/587377 [00:05<00:00, 102176.70it/s]\n"
     ]
    }
   ],
   "source": [
    "def read_zip(zipped_wiki):\n",
    "    df = pd.DataFrame(_read_zip(zipped_wiki))\n",
    "    return df[df.content.str.len()>1000]\n",
    "\n",
    "df = read_zip(\"../data/interim/wik_pages.zip\")"
   ]
  },
  {
   "cell_type": "code",
   "execution_count": 52,
   "metadata": {
    "ExecuteTime": {
     "end_time": "2017-08-22T07:37:29.786552Z",
     "start_time": "2017-08-22T07:37:29.782800Z"
    }
   },
   "outputs": [
    {
     "data": {
      "text/plain": [
       "7189"
      ]
     },
     "execution_count": 52,
     "metadata": {},
     "output_type": "execute_result"
    }
   ],
   "source": [
    "len(df)"
   ]
  },
  {
   "cell_type": "code",
   "execution_count": 50,
   "metadata": {
    "ExecuteTime": {
     "end_time": "2017-08-22T07:36:55.066864Z",
     "start_time": "2017-08-22T07:36:54.663040Z"
    }
   },
   "outputs": [
    {
     "data": {
      "text/plain": [
       "<matplotlib.axes._subplots.AxesSubplot at 0x110a329b0>"
      ]
     },
     "execution_count": 50,
     "metadata": {},
     "output_type": "execute_result"
    },
    {
     "data": {
      "image/png": "[encoded data removed]",
      "text/plain": [
       "<matplotlib.figure.Figure at 0x1108ead30>"
      ]
     },
     "metadata": {},
     "output_type": "display_data"
    }
   ],
   "source": [
    "%matplotlib inline\n",
    "#import numpy as np\n",
    "#df.content.str.len().hist(bins=np.linspace(0, 10000, 100))"
   ]
  },
  {
   "cell_type": "code",
   "execution_count": 54,
   "metadata": {
    "ExecuteTime": {
     "end_time": "2017-08-22T07:37:44.296392Z",
     "start_time": "2017-08-22T07:37:44.287523Z"
    }
   },
   "outputs": [
    {
     "data": {
      "text/html": [
       "<div>\n",
       "<style>\n",
       "    .dataframe thead tr:only-child th {\n",
       "        text-align: right;\n",
       "    }\n",
       "\n",
       "    .dataframe thead th {\n",
       "        text-align: left;\n",
       "    }\n",
       "\n",
       "    .dataframe tbody tr th {\n",
       "        vertical-align: top;\n",
       "    }\n",
       "</style>\n",
       "<table border=\"1\" class=\"dataframe\">\n",
       "  <thead>\n",
       "    <tr style=\"text-align: right;\">\n",
       "      <th></th>\n",
       "      <th>content</th>\n",
       "      <th>title</th>\n",
       "    </tr>\n",
       "  </thead>\n",
       "  <tbody>\n",
       "    <tr>\n",
       "      <th>0</th>\n",
       "      <td>Az Omega Kossuth-díj és Liszt Ferenc-díj magya...</td>\n",
       "      <td>Omega (együttes)</td>\n",
       "    </tr>\n",
       "    <tr>\n",
       "      <th>1</th>\n",
       "      <td>A Wikipédia többnyelvű , nyílt tartalmú , a ny...</td>\n",
       "      <td>Wikipédia</td>\n",
       "    </tr>\n",
       "    <tr>\n",
       "      <th>2</th>\n",
       "      <td>Írható DVD ( DVD-R ) alsó , fedetlen oldala .\\...</td>\n",
       "      <td>DVD</td>\n",
       "    </tr>\n",
       "    <tr>\n",
       "      <th>3</th>\n",
       "      <td>A bit az információ , ugyanakkor az információ...</td>\n",
       "      <td>Bit</td>\n",
       "    </tr>\n",
       "    <tr>\n",
       "      <th>4</th>\n",
       "      <td>A byte ( vagy bájt ) általánosan használt táro...</td>\n",
       "      <td>Byte</td>\n",
       "    </tr>\n",
       "  </tbody>\n",
       "</table>\n",
       "</div>"
      ],
      "text/plain": [
       "                                             content             title\n",
       "0  Az Omega Kossuth-díj és Liszt Ferenc-díj magya...  Omega (együttes)\n",
       "1  A Wikipédia többnyelvű , nyílt tartalmú , a ny...         Wikipédia\n",
       "2  Írható DVD ( DVD-R ) alsó , fedetlen oldala .\\...               DVD\n",
       "3  A bit az információ , ugyanakkor az információ...               Bit\n",
       "4  A byte ( vagy bájt ) általánosan használt táro...              Byte"
      ]
     },
     "execution_count": 54,
     "metadata": {},
     "output_type": "execute_result"
    }
   ],
   "source": [
    "df.head()"
   ]
  },
  {
   "cell_type": "markdown",
   "metadata": {},
   "source": [
    "# Build the model"
   ]
  },
  {
   "cell_type": "code",
   "execution_count": 55,
   "metadata": {
    "ExecuteTime": {
     "end_time": "2017-08-22T07:37:52.312944Z",
     "start_time": "2017-08-22T07:37:50.982161Z"
    },
    "collapsed": true
   },
   "outputs": [],
   "source": [
    "import gensim\n",
    "import spacy\n",
    "from collections import Counter\n",
    "nlp = spacy.hu.Hungarian()"
   ]
  },
  {
   "cell_type": "code",
   "execution_count": 56,
   "metadata": {
    "ExecuteTime": {
     "end_time": "2017-08-22T07:37:52.324371Z",
     "start_time": "2017-08-22T07:37:52.314852Z"
    }
   },
   "outputs": [
    {
     "data": {
      "text/plain": [
       "[(1648, 1)]"
      ]
     },
     "execution_count": 56,
     "metadata": {},
     "output_type": "execute_result"
    }
   ],
   "source": [
    "def spacy_vectorize(text):\n",
    "    return list(Counter([tok.lower for tok in nlp(text) \n",
    "            if not tok.is_stop and tok.is_alpha]).items())\n",
    "\n",
    "spacy_vectorize(\"egy megy 2 nem de igen\")"
   ]
  },
  {
   "cell_type": "code",
   "execution_count": 57,
   "metadata": {
    "ExecuteTime": {
     "end_time": "2017-08-22T07:44:29.150112Z",
     "start_time": "2017-08-22T07:37:54.568511Z"
    },
    "collapsed": true
   },
   "outputs": [],
   "source": [
    "from collections import Counter\n",
    "\n",
    "df[\"repr\"] = [spacy_vectorize(text) for text in df.content.values]"
   ]
  },
  {
   "cell_type": "code",
   "execution_count": 58,
   "metadata": {
    "ExecuteTime": {
     "end_time": "2017-08-22T07:44:29.272119Z",
     "start_time": "2017-08-22T07:44:29.152316Z"
    }
   },
   "outputs": [
    {
     "data": {
      "text/html": [
       "<div>\n",
       "<style>\n",
       "    .dataframe thead tr:only-child th {\n",
       "        text-align: right;\n",
       "    }\n",
       "\n",
       "    .dataframe thead th {\n",
       "        text-align: left;\n",
       "    }\n",
       "\n",
       "    .dataframe tbody tr th {\n",
       "        vertical-align: top;\n",
       "    }\n",
       "</style>\n",
       "<table border=\"1\" class=\"dataframe\">\n",
       "  <thead>\n",
       "    <tr style=\"text-align: right;\">\n",
       "      <th></th>\n",
       "      <th>content</th>\n",
       "      <th>title</th>\n",
       "      <th>repr</th>\n",
       "    </tr>\n",
       "  </thead>\n",
       "  <tbody>\n",
       "    <tr>\n",
       "      <th>0</th>\n",
       "      <td>Az Omega Kossuth-díj és Liszt Ferenc-díj magya...</td>\n",
       "      <td>Omega (együttes)</td>\n",
       "      <td>[(1660, 86), (1669, 3), (1673, 32), (1675, 8),...</td>\n",
       "    </tr>\n",
       "    <tr>\n",
       "      <th>1</th>\n",
       "      <td>A Wikipédia többnyelvű , nyílt tartalmú , a ny...</td>\n",
       "      <td>Wikipédia</td>\n",
       "      <td>[(6419, 51), (6420, 1), (5906, 4), (6421, 2), ...</td>\n",
       "    </tr>\n",
       "    <tr>\n",
       "      <th>2</th>\n",
       "      <td>Írható DVD ( DVD-R ) alsó , fedetlen oldala .\\...</td>\n",
       "      <td>DVD</td>\n",
       "      <td>[(8297, 6), (8299, 12), (8304, 1), (8305, 1), ...</td>\n",
       "    </tr>\n",
       "    <tr>\n",
       "      <th>3</th>\n",
       "      <td>A bit az információ , ugyanakkor az információ...</td>\n",
       "      <td>Bit</td>\n",
       "      <td>[(2681, 12), (9051, 5), (5570, 1), (9052, 1), ...</td>\n",
       "    </tr>\n",
       "    <tr>\n",
       "      <th>4</th>\n",
       "      <td>A byte ( vagy bájt ) általánosan használt táro...</td>\n",
       "      <td>Byte</td>\n",
       "      <td>[(9181, 16), (9183, 1), (9283, 1), (6994, 1), ...</td>\n",
       "    </tr>\n",
       "  </tbody>\n",
       "</table>\n",
       "</div>"
      ],
      "text/plain": [
       "                                             content             title  \\\n",
       "0  Az Omega Kossuth-díj és Liszt Ferenc-díj magya...  Omega (együttes)   \n",
       "1  A Wikipédia többnyelvű , nyílt tartalmú , a ny...         Wikipédia   \n",
       "2  Írható DVD ( DVD-R ) alsó , fedetlen oldala .\\...               DVD   \n",
       "3  A bit az információ , ugyanakkor az információ...               Bit   \n",
       "4  A byte ( vagy bájt ) általánosan használt táro...              Byte   \n",
       "\n",
       "                                                repr  \n",
       "0  [(1660, 86), (1669, 3), (1673, 32), (1675, 8),...  \n",
       "1  [(6419, 51), (6420, 1), (5906, 4), (6421, 2), ...  \n",
       "2  [(8297, 6), (8299, 12), (8304, 1), (8305, 1), ...  \n",
       "3  [(2681, 12), (9051, 5), (5570, 1), (9052, 1), ...  \n",
       "4  [(9181, 16), (9183, 1), (9283, 1), (6994, 1), ...  "
      ]
     },
     "execution_count": 58,
     "metadata": {},
     "output_type": "execute_result"
    }
   ],
   "source": [
    "df.head()"
   ]
  },
  {
   "cell_type": "code",
   "execution_count": 59,
   "metadata": {
    "ExecuteTime": {
     "end_time": "2017-08-22T07:44:32.077605Z",
     "start_time": "2017-08-22T07:44:29.273946Z"
    },
    "collapsed": true
   },
   "outputs": [],
   "source": [
    "model = gensim.models.TfidfModel(df.repr.values)"
   ]
  },
  {
   "cell_type": "code",
   "execution_count": 60,
   "metadata": {
    "ExecuteTime": {
     "end_time": "2017-08-22T07:44:32.082523Z",
     "start_time": "2017-08-22T07:44:32.079603Z"
    },
    "collapsed": true
   },
   "outputs": [],
   "source": [
    "tfidf_corpus = model[df.repr.values]"
   ]
  },
  {
   "cell_type": "code",
   "execution_count": 68,
   "metadata": {
    "ExecuteTime": {
     "end_time": "2017-08-22T07:59:36.317795Z",
     "start_time": "2017-08-22T07:57:38.775958Z"
    }
   },
   "outputs": [],
   "source": [
    "from gensim.similarities import MatrixSimilarity\n",
    "\n",
    "sim = MatrixSimilarity(tfidf_corpus)"
   ]
  },
  {
   "cell_type": "markdown",
   "metadata": {
    "ExecuteTime": {
     "end_time": "2017-08-22T08:13:16.146505Z",
     "start_time": "2017-08-22T08:13:16.143859Z"
    }
   },
   "source": [
    "# Test ESA"
   ]
  },
  {
   "cell_type": "code",
   "execution_count": 91,
   "metadata": {
    "ExecuteTime": {
     "end_time": "2017-08-22T08:13:09.732005Z",
     "start_time": "2017-08-22T08:12:58.323982Z"
    }
   },
   "outputs": [],
   "source": [
    "docs = pd.read_csv(\"../data/interim/merged_98_17.tsv\", sep=\"\\t\")"
   ]
  },
  {
   "cell_type": "code",
   "execution_count": 111,
   "metadata": {
    "ExecuteTime": {
     "end_time": "2017-08-22T08:16:13.427607Z",
     "start_time": "2017-08-22T08:16:13.419616Z"
    }
   },
   "outputs": [
    {
     "name": "stdout",
     "output_type": "stream",
     "text": [
      " Elnök Asszony! Tisztelt Ház! A képviselőtársaim válaszára, amit kaptunk a minisztériumtól, körülbelül azt az összefoglalást hoznám, hogy a kormánypártoknak semmi sem drága, nem gond, ha csökken a mezőgazdasági termelés, tönkremennek jól működő társas gazdaságok, megszűnik néhány tízezer munkahely; különben is - mondta az FVM képviselője - ez csak munkaerő-piaci probléma. Éljen a család, de még inkább a nagybirtok!\n",
      "Úgy látszik ez a koncepció az új birtokpolitikai irányelv, amit három évvel ezelőtt Torgyán József is megígért már, csak nem láttuk, és Orbán Viktor is néhány hónappal ezelőtt már ígért valamit. Úgy érezzük, mivel a föld politikai vita tárgya, jó lett volna, ha ezeket a birtokpolitikai elveket régóta megismerhettük volna, és kivitathattuk volna nemcsak politikai, hanem szakmai szinten is.\n",
      "Megítélésünk szerint hiába van előtérbe helyezve a család a szlogenben, addig, ameddig a földből nem lehet megélni, nem teremtődik forrás a földvásárlásra, csak a spekulánsoknak, a hosszú távra tervező külföldieknek éri meg földet vásárolni, illetve bérelni, mert külföldi csak bérelhet. A családnak ez alapján nem valószínű, hogy lesz földje, kaphat bármilyen kedvező hitelt, amit itt önök ígérnek.\n",
      "Ez az egész szabályozás lehetőséget teremt arra, hogy a földalap kht.-n keresztül az állam a termőföld 65-70 százalékát kénye-kedve szerint befolyásolja, a vásárlást és a bérletet. Igaz, hogy elővásárlási jog illeti meg a családi gazdálkodó családtagot, helyben lakót, és ezután jön csak a kht., de az előbb említett tőke-, illetve hitelhiányos gazdálkodók valószínűleg nem tudnak élni majd az elővásárlás jogával. Így az állam vásárolhatja meg a földet, és adhatja oda bárkinek, legalábbis a törvénytervezet szerint ez van.\n",
      "Földbérlet esetén még rosszabb a helyzet, hiszen a helyben lakót is megelőzi a nemzeti földalap kht., így az elő-haszonbérleti jog lehetőségét a kht. által kinevezett személy kaphatja meg - kedves Vonza miniszter úr, nem versenytárgyalás alapján -, és ha a kht. ez alapján egy külföldi magánszemélyt vagy bárkit kijelöl, aki 200 kilométerrel arrébb lakik attól a 2500 hektáros esetleges tagtól, mégis ő bérelhet, mert ezt jelöli ki a kht.\n",
      " \n",
      "\n"
     ]
    }
   ],
   "source": [
    "test_doc = docs.iloc[4243].Text\n",
    "print(test_doc)"
   ]
  },
  {
   "cell_type": "code",
   "execution_count": 112,
   "metadata": {
    "ExecuteTime": {
     "end_time": "2017-08-22T08:16:19.216806Z",
     "start_time": "2017-08-22T08:16:18.956499Z"
    }
   },
   "outputs": [],
   "source": [
    "test_bow = spacy_vectorize(test_doc)\n",
    "test_tfidf = model[test_bow]"
   ]
  },
  {
   "cell_type": "code",
   "execution_count": 113,
   "metadata": {
    "ExecuteTime": {
     "end_time": "2017-08-22T08:16:48.563319Z",
     "start_time": "2017-08-22T08:16:19.219570Z"
    }
   },
   "outputs": [],
   "source": [
    "sim_array = sim[test_tfidf]"
   ]
  },
  {
   "cell_type": "code",
   "execution_count": 114,
   "metadata": {
    "ExecuteTime": {
     "end_time": "2017-08-22T08:16:48.589904Z",
     "start_time": "2017-08-22T08:16:48.578748Z"
    }
   },
   "outputs": [],
   "source": [
    "best_indices = sim_array.argsort()[-10:]"
   ]
  },
  {
   "cell_type": "code",
   "execution_count": 115,
   "metadata": {
    "ExecuteTime": {
     "end_time": "2017-08-22T08:16:48.624091Z",
     "start_time": "2017-08-22T08:16:48.592841Z"
    }
   },
   "outputs": [
    {
     "data": {
      "text/plain": [
       "5191                                      Spárgavirágúak\n",
       "4086                                         Jogtudomány\n",
       "2481                                         Feudalizmus\n",
       "7221                               Második Orbán-kormány\n",
       "2865                                  Orbán Balázs (író)\n",
       "308                                 Család (szociológia)\n",
       "2476                                           Római jog\n",
       "4955    Független Kisgazda-, Földmunkás- és Polgári Párt\n",
       "541                                         Orbán Viktor\n",
       "61                                                   Jog\n",
       "Name: title, dtype: object"
      ]
     },
     "execution_count": 115,
     "metadata": {},
     "output_type": "execute_result"
    }
   ],
   "source": [
    "df.title.iloc[best_indices]"
   ]
  },
  {
   "cell_type": "code",
   "execution_count": 116,
   "metadata": {
    "ExecuteTime": {
     "end_time": "2017-08-22T08:16:48.632005Z",
     "start_time": "2017-08-22T08:16:48.626040Z"
    }
   },
   "outputs": [
    {
     "data": {
      "text/plain": [
       "array([ 0.03081835,  0.0311382 ,  0.0311594 ,  0.03410511,  0.03519953,\n",
       "        0.0415751 ,  0.04638349,  0.05544276,  0.06124373,  0.07073583], dtype=float32)"
      ]
     },
     "execution_count": 116,
     "metadata": {},
     "output_type": "execute_result"
    }
   ],
   "source": [
    "sim_array[best_indices]"
   ]
  },
  {
   "cell_type": "code",
   "execution_count": null,
   "metadata": {
    "collapsed": true
   },
   "outputs": [],
   "source": []
  }
 ],
 "metadata": {
  "kernelspec": {
   "display_name": "Python [conda env:parldata]",
   "language": "python",
   "name": "conda-env-parldata-py"
  },
  "language_info": {
   "codemirror_mode": {
    "name": "ipython",
    "version": 3
   },
   "file_extension": ".py",
   "mimetype": "text/x-python",
   "name": "python",
   "nbconvert_exporter": "python",
   "pygments_lexer": "ipython3",
   "version": "3.6.2"
  },
  "latex_envs": {
   "LaTeX_envs_menu_present": true,
   "bibliofile": "biblio.bib",
   "cite_by": "apalike",
   "current_citInitial": 1,
   "eqLabelWithNumbers": true,
   "eqNumInitial": 1,
   "hotkeys": {
    "equation": "Ctrl-E",
    "itemize": "Ctrl-I"
   },
   "labels_anchors": false,
   "latex_user_defs": false,
   "report_style_numbering": false,
   "user_envs_cfg": false
  }
 },
 "nbformat": 4,
 "nbformat_minor": 2
}
