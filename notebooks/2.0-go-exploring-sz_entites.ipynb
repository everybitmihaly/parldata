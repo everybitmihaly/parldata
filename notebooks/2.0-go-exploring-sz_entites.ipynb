{
 "cells": [
  {
   "cell_type": "markdown",
   "metadata": {},
   "source": [
    "# Data"
   ]
  },
  {
   "cell_type": "code",
   "execution_count": 1,
   "metadata": {
    "ExecuteTime": {
     "end_time": "2017-08-07T20:12:03.106953Z",
     "start_time": "2017-08-07T20:12:02.557030Z"
    },
    "collapsed": true
   },
   "outputs": [],
   "source": [
    "import pandas as pd\n",
    "import hunlp"
   ]
  },
  {
   "cell_type": "code",
   "execution_count": 20,
   "metadata": {
    "ExecuteTime": {
     "end_time": "2017-08-07T20:20:56.848881Z",
     "start_time": "2017-08-07T20:20:55.591509Z"
    }
   },
   "outputs": [],
   "source": [
    "pents = pd.read_csv(\"../data/interim/sz_entities_98_17.csv\").set_index(\"Hash\")"
   ]
  },
  {
   "cell_type": "code",
   "execution_count": 21,
   "metadata": {
    "ExecuteTime": {
     "end_time": "2017-08-07T20:20:58.713724Z",
     "start_time": "2017-08-07T20:20:58.704265Z"
    }
   },
   "outputs": [
    {
     "data": {
      "text/html": [
       "<div>\n",
       "<style>\n",
       "    .dataframe thead tr:only-child th {\n",
       "        text-align: right;\n",
       "    }\n",
       "\n",
       "    .dataframe thead th {\n",
       "        text-align: left;\n",
       "    }\n",
       "\n",
       "    .dataframe tbody tr th {\n",
       "        vertical-align: top;\n",
       "    }\n",
       "</style>\n",
       "<table border=\"1\" class=\"dataframe\">\n",
       "  <thead>\n",
       "    <tr style=\"text-align: right;\">\n",
       "      <th></th>\n",
       "      <th>Entities</th>\n",
       "    </tr>\n",
       "    <tr>\n",
       "      <th>Hash</th>\n",
       "      <th></th>\n",
       "    </tr>\n",
       "  </thead>\n",
       "  <tbody>\n",
       "    <tr>\n",
       "      <th>6de9c5ec6378e61fe8a65b4683a690ef</th>\n",
       "      <td>[('Országgyűlés', 'ORG'), ('Országgyűlés', 'OR...</td>\n",
       "    </tr>\n",
       "    <tr>\n",
       "      <th>1b93de398b9309934ab4ab8227d000ea</th>\n",
       "      <td>[('Tisztelt Ház', 'PER'), ('Uraim', 'PER'), ('...</td>\n",
       "    </tr>\n",
       "    <tr>\n",
       "      <th>1d0ab273b61e3d4e77af113aec03d630</th>\n",
       "      <td>[('Országgyűlés', 'ORG'), ('Nagy Sándor', 'PER...</td>\n",
       "    </tr>\n",
       "    <tr>\n",
       "      <th>63e621fd4fb78b666a7e3b0f68c0e703</th>\n",
       "      <td>[('Tisztelt Elnök Úr !', 'ORG'), ('Tisztelt El...</td>\n",
       "    </tr>\n",
       "    <tr>\n",
       "      <th>ff4dbe943a73a473da3ce0bb374fe5ee</th>\n",
       "      <td>[]</td>\n",
       "    </tr>\n",
       "  </tbody>\n",
       "</table>\n",
       "</div>"
      ],
      "text/plain": [
       "                                                                           Entities\n",
       "Hash                                                                               \n",
       "6de9c5ec6378e61fe8a65b4683a690ef  [('Országgyűlés', 'ORG'), ('Országgyűlés', 'OR...\n",
       "1b93de398b9309934ab4ab8227d000ea  [('Tisztelt Ház', 'PER'), ('Uraim', 'PER'), ('...\n",
       "1d0ab273b61e3d4e77af113aec03d630  [('Országgyűlés', 'ORG'), ('Nagy Sándor', 'PER...\n",
       "63e621fd4fb78b666a7e3b0f68c0e703  [('Tisztelt Elnök Úr !', 'ORG'), ('Tisztelt El...\n",
       "ff4dbe943a73a473da3ce0bb374fe5ee                                                 []"
      ]
     },
     "execution_count": 21,
     "metadata": {},
     "output_type": "execute_result"
    }
   ],
   "source": [
    "pents.head()"
   ]
  },
  {
   "cell_type": "code",
   "execution_count": 22,
   "metadata": {
    "ExecuteTime": {
     "end_time": "2017-08-07T20:21:19.977923Z",
     "start_time": "2017-08-07T20:21:02.352429Z"
    }
   },
   "outputs": [],
   "source": [
    "ents_df = pd.DataFrame([\n",
    "    {\n",
    "        \"Hash\": hashid, \n",
    "        \"Entity\": entity[0], \n",
    "        \"EntityCategory\": entity[1],\n",
    "    } \n",
    "    for hashid, entities in pents.Entities.iteritems() \n",
    "    for entity in eval(entities)\n",
    "]).set_index(\"Hash\")"
   ]
  },
  {
   "cell_type": "code",
   "execution_count": 25,
   "metadata": {
    "ExecuteTime": {
     "end_time": "2017-08-07T20:21:52.225741Z",
     "start_time": "2017-08-07T20:21:52.218725Z"
    }
   },
   "outputs": [
    {
     "data": {
      "text/html": [
       "<div>\n",
       "<style>\n",
       "    .dataframe thead tr:only-child th {\n",
       "        text-align: right;\n",
       "    }\n",
       "\n",
       "    .dataframe thead th {\n",
       "        text-align: left;\n",
       "    }\n",
       "\n",
       "    .dataframe tbody tr th {\n",
       "        vertical-align: top;\n",
       "    }\n",
       "</style>\n",
       "<table border=\"1\" class=\"dataframe\">\n",
       "  <thead>\n",
       "    <tr style=\"text-align: right;\">\n",
       "      <th></th>\n",
       "      <th>Entity</th>\n",
       "      <th>EntityCategory</th>\n",
       "    </tr>\n",
       "    <tr>\n",
       "      <th>Hash</th>\n",
       "      <th></th>\n",
       "      <th></th>\n",
       "    </tr>\n",
       "  </thead>\n",
       "  <tbody>\n",
       "    <tr>\n",
       "      <th>6de9c5ec6378e61fe8a65b4683a690ef</th>\n",
       "      <td>Országgyűlés</td>\n",
       "      <td>ORG</td>\n",
       "    </tr>\n",
       "    <tr>\n",
       "      <th>6de9c5ec6378e61fe8a65b4683a690ef</th>\n",
       "      <td>Országgyűlés</td>\n",
       "      <td>ORG</td>\n",
       "    </tr>\n",
       "    <tr>\n",
       "      <th>6de9c5ec6378e61fe8a65b4683a690ef</th>\n",
       "      <td>Mádl Ferenc</td>\n",
       "      <td>PER</td>\n",
       "    </tr>\n",
       "    <tr>\n",
       "      <th>6de9c5ec6378e61fe8a65b4683a690ef</th>\n",
       "      <td>Országgyűlés</td>\n",
       "      <td>ORG</td>\n",
       "    </tr>\n",
       "    <tr>\n",
       "      <th>6de9c5ec6378e61fe8a65b4683a690ef</th>\n",
       "      <td>Vidoven Árpád</td>\n",
       "      <td>PER</td>\n",
       "    </tr>\n",
       "  </tbody>\n",
       "</table>\n",
       "</div>"
      ],
      "text/plain": [
       "                                         Entity EntityCategory\n",
       "Hash                                                          \n",
       "6de9c5ec6378e61fe8a65b4683a690ef   Országgyűlés            ORG\n",
       "6de9c5ec6378e61fe8a65b4683a690ef   Országgyűlés            ORG\n",
       "6de9c5ec6378e61fe8a65b4683a690ef    Mádl Ferenc            PER\n",
       "6de9c5ec6378e61fe8a65b4683a690ef   Országgyűlés            ORG\n",
       "6de9c5ec6378e61fe8a65b4683a690ef  Vidoven Árpád            PER"
      ]
     },
     "execution_count": 25,
     "metadata": {},
     "output_type": "execute_result"
    }
   ],
   "source": [
    "ents_df.head(5)"
   ]
  },
  {
   "cell_type": "code",
   "execution_count": 24,
   "metadata": {
    "ExecuteTime": {
     "end_time": "2017-08-07T20:21:52.216856Z",
     "start_time": "2017-08-07T20:21:40.940804Z"
    },
    "collapsed": true
   },
   "outputs": [],
   "source": [
    "raw_df = pd.read_csv(\n",
    "    \"../data/interim/merged_98_17.tsv\", \n",
    "    sep=\"\\t\"\n",
    ").set_index(\"Hash\").drop([\"URL\", \"Text\"], axis=1)\n",
    "raw_df.Date = pd.to_datetime(raw_df[\"Date\"])"
   ]
  },
  {
   "cell_type": "code",
   "execution_count": 27,
   "metadata": {
    "ExecuteTime": {
     "end_time": "2017-08-07T20:22:05.003870Z",
     "start_time": "2017-08-07T20:21:59.340609Z"
    }
   },
   "outputs": [],
   "source": [
    "data = raw_df.join(ents_df)"
   ]
  },
  {
   "cell_type": "markdown",
   "metadata": {},
   "source": [
    "# Queries"
   ]
  },
  {
   "cell_type": "code",
   "execution_count": 29,
   "metadata": {
    "ExecuteTime": {
     "end_time": "2017-08-07T20:22:13.433050Z",
     "start_time": "2017-08-07T20:22:13.364956Z"
    }
   },
   "outputs": [
    {
     "name": "stdout",
     "output_type": "stream",
     "text": [
      "Populating the interactive namespace from numpy and matplotlib\n"
     ]
    }
   ],
   "source": [
    "%pylab inline"
   ]
  },
  {
   "cell_type": "code",
   "execution_count": 30,
   "metadata": {
    "ExecuteTime": {
     "end_time": "2017-08-07T20:22:13.696014Z",
     "start_time": "2017-08-07T20:22:13.691698Z"
    }
   },
   "outputs": [
    {
     "data": {
      "text/plain": [
       "Index(['Date', 'SpeechType', 'SpeakerType', 'Name', 'Party', 'SpeakerId',\n",
       "       'Entity', 'EntityCategory'],\n",
       "      dtype='object')"
      ]
     },
     "execution_count": 30,
     "metadata": {},
     "output_type": "execute_result"
    }
   ],
   "source": [
    "data.columns"
   ]
  },
  {
   "cell_type": "code",
   "execution_count": 31,
   "metadata": {
    "ExecuteTime": {
     "end_time": "2017-08-07T20:22:32.229858Z",
     "start_time": "2017-08-07T20:22:14.997823Z"
    }
   },
   "outputs": [
    {
     "data": {
      "text/plain": [
       "napirend előtti felszólalás                        3132\n",
       "napirend előttihez hozzászólás                     2750\n",
       "azonnali kérdésre adott miniszteri viszonválasz    1498\n",
       "kérdést megválaszolja                              1380\n",
       "felszólalás                                         718\n",
       "Expozé                                              518\n",
       "vezérszónoki felszólalás                            293\n",
       "Előadói válasz                                      139\n",
       "Eskü                                                115\n",
       "egyéb felszólalás                                    56\n",
       "kétperces felszólalás                                35\n",
       "előterjesztő nyitóbeszéde                            30\n",
       "interpellációt szóban megválaszolja                  29\n",
       "nem érdemi felszólalás                                3\n",
       "Name: SpeechType, dtype: int64"
      ]
     },
     "execution_count": 31,
     "metadata": {},
     "output_type": "execute_result"
    }
   ],
   "source": [
    "data[data.Name.str.contains(\"Orbán Viktor\")].SpeechType.value_counts()"
   ]
  },
  {
   "cell_type": "code",
   "execution_count": 33,
   "metadata": {
    "ExecuteTime": {
     "end_time": "2017-08-07T20:23:09.255444Z",
     "start_time": "2017-08-07T20:22:56.054321Z"
    }
   },
   "outputs": [
    {
     "data": {
      "text/plain": [
       "Magyarország                              879\n",
       "Magyarországon                            686\n",
       "Uraim                                     611\n",
       "MSZP                                      551\n",
       "Tisztelt Hölgyeim                         508\n",
       "Tisztelt Ház                              297\n",
       "ORBÁN VIKTOR                              286\n",
       "Fidesz                                    272\n",
       "Tisztelt Elnök Úr !                       271\n",
       "Jobbik                                    215\n",
       "Európai Unió                              207\n",
       "Magyarországnak                           168\n",
       "Magyarországot                            151\n",
       "Európa                                    141\n",
       "Tisztelt Képviselő Úr !                   126\n",
       "Európában                                 113\n",
       "MIÉP                                       92\n",
       "LMP                                        70\n",
       "Országgyűlés                               66\n",
       "SZDSZ                                      64\n",
       "Házban                                     63\n",
       "KDNP                                       59\n",
       "Gőgös Zoltán                               57\n",
       "Magyarországra                             56\n",
       "Józsa István                               51\n",
       "Európai Unióban                            50\n",
       "Brüsszelben                                49\n",
       "Brüsszel                                   49\n",
       "Európai Unióhoz                            48\n",
       "Unió                                       45\n",
       "                                         ... \n",
       "Afganisztánból                              1\n",
       "Vörs                                        1\n",
       "Ráérünk                                     1\n",
       "Elintézted                                  1\n",
       "Nyikos László                               1\n",
       "Európáról                                   1\n",
       "Van Eötvös Józsefnek                        1\n",
       "HM                                          1\n",
       "Fehérkönyv                                  1\n",
       "Szocialista Pártot                          1\n",
       "  93   Következő                            1\n",
       "Gyere                                       1\n",
       "Böröcz István                               1\n",
       "Fehér Házat                                 1\n",
       "Európán                                     1\n",
       "KGST-től                                    1\n",
       "Martonyi Jánost                             1\n",
       "Bursa Hungaricának                          1\n",
       "Palicson                                    1\n",
       "Magyar Villamos Művek Részvénytársaság      1\n",
       "Tapssal                                     1\n",
       "Rakéták                                     1\n",
       "Környezetgazdálkodási Intézetnél            1\n",
       "Széchenyi Bank                              1\n",
       "Hitlertől                                   1\n",
       "Vajdasági Magyarok Szövetsége               1\n",
       " Pető Iván                                  1\n",
       "Körösök                                     1\n",
       "Kövér László                                1\n",
       "Strabag                                     1\n",
       "Name: Entity, Length: 1647, dtype: int64"
      ]
     },
     "execution_count": 33,
     "metadata": {},
     "output_type": "execute_result"
    }
   ],
   "source": [
    "data[data.Name.str.contains(\"Orbán Viktor\")].Entity.value_counts()"
   ]
  },
  {
   "cell_type": "code",
   "execution_count": 36,
   "metadata": {
    "ExecuteTime": {
     "end_time": "2017-08-07T20:25:32.317072Z",
     "start_time": "2017-08-07T20:24:18.382413Z"
    },
    "collapsed": true
   },
   "outputs": [],
   "source": [
    "ov = data[data.Name.str.contains(\"Orbán Viktor\") & \n",
    "            ~data.Entity.fillna(\"\").str.contains(\"Orbán\") &\n",
    "            ~data.Entity.fillna(\"\").str.contains(\"Fidesz\") &\n",
    "            ~data.Entity.fillna(\"\").str.contains(\"Tisztelt\") &\n",
    "            ~data.Entity.fillna(\"\").str.contains(\"Magyarország\")\n",
    "         ]\n",
    "#           (data.SpeechType == \"napirend előtti felszólalás\") & \n"
   ]
  },
  {
   "cell_type": "code",
   "execution_count": 38,
   "metadata": {
    "ExecuteTime": {
     "end_time": "2017-08-07T20:25:52.448727Z",
     "start_time": "2017-08-07T20:25:52.404007Z"
    }
   },
   "outputs": [],
   "source": [
    "import datetime\n",
    "\n",
    "topk = 10\n",
    "\n",
    "ov98 = ov[(ov.Date < datetime.date(year=2002,month=1,day=1)) &\n",
    "          (ov.Date > datetime.date(year=1998,month=1,day=1))].Entity.value_counts()[:topk]\n",
    "\n",
    "ov02 = ov[(ov.Date < datetime.date(year=2006,month=1,day=1)) &\n",
    "          (ov.Date > datetime.date(year=2002,month=1,day=1))].Entity.value_counts()[:topk]\n",
    "\n",
    "ov06 = ov[(ov.Date < datetime.date(year=2010,month=1,day=1)) &\n",
    "          (ov.Date > datetime.date(year=2006,month=1,day=1))].Entity.value_counts()[:topk]\n",
    "\n",
    "ov10 = ov[(ov.Date < datetime.date(year=2014,month=1,day=1)) &\n",
    "          (ov.Date > datetime.date(year=2010,month=1,day=1))].Entity.value_counts()[:topk]\n",
    "\n",
    "ov14 = ov[\n",
    "#           (ov.Date < datetime.date(year=2014,month=1,day=1)) &\n",
    "          (ov.Date > datetime.date(year=2014,month=1,day=1))].Entity.value_counts()[:topk]"
   ]
  },
  {
   "cell_type": "code",
   "execution_count": 39,
   "metadata": {
    "ExecuteTime": {
     "end_time": "2017-08-07T20:25:56.292492Z",
     "start_time": "2017-08-07T20:25:56.285647Z"
    },
    "collapsed": true
   },
   "outputs": [],
   "source": [
    "def comparision_plot(dfs, columns):\n",
    "    fig, ax = plt.subplots()\n",
    "    fig.set_size_inches(18, 6)\n",
    "    data = pd.concat(dfs, axis=1)\n",
    "    data.columns = columns\n",
    "    data.plot(kind=\"bar\", ax=ax)\n",
    "    "
   ]
  },
  {
   "cell_type": "code",
   "execution_count": 40,
   "metadata": {
    "ExecuteTime": {
     "end_time": "2017-08-07T20:25:58.060677Z",
     "start_time": "2017-08-07T20:25:57.045677Z"
    }
   },
   "outputs": [
    {
     "data": {
      "image/png": "[encoded data removed]",
      "text/plain": [
       "<matplotlib.figure.Figure at 0x135598198>"
      ]
     },
     "metadata": {},
     "output_type": "display_data"
    }
   ],
   "source": [
    "comparision_plot([ov98, ov02, ov06, ov10, ov14], [1998, 2002, 2006, 2010, 2014])"
   ]
  },
  {
   "cell_type": "code",
   "execution_count": null,
   "metadata": {
    "collapsed": true
   },
   "outputs": [],
   "source": []
  }
 ],
 "metadata": {
  "kernelspec": {
   "display_name": "Python [conda env:parldata]",
   "language": "python",
   "name": "conda-env-parldata-py"
  },
  "language_info": {
   "codemirror_mode": {
    "name": "ipython",
    "version": 3
   },
   "file_extension": ".py",
   "mimetype": "text/x-python",
   "name": "python",
   "nbconvert_exporter": "python",
   "pygments_lexer": "ipython3",
   "version": "3.6.2"
  },
  "latex_envs": {
   "LaTeX_envs_menu_present": true,
   "bibliofile": "biblio.bib",
   "cite_by": "apalike",
   "current_citInitial": 1,
   "eqLabelWithNumbers": true,
   "eqNumInitial": 1,
   "hotkeys": {
    "equation": "Ctrl-E",
    "itemize": "Ctrl-I"
   },
   "labels_anchors": false,
   "latex_user_defs": false,
   "report_style_numbering": false,
   "user_envs_cfg": false
  },
  "notify_time": "5"
 },
 "nbformat": 4,
 "nbformat_minor": 2
}
